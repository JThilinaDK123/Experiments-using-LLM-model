{
 "cells": [
  {
   "cell_type": "code",
   "execution_count": 1,
   "id": "21a565e5-41fa-4cc2-a18b-38bead7bc7fc",
   "metadata": {},
   "outputs": [],
   "source": [
    "import os\n",
    "import requests\n",
    "import json\n",
    "from typing import List\n",
    "from dotenv import load_dotenv\n",
    "from bs4 import BeautifulSoup\n",
    "from IPython.display import Markdown, display, update_display\n",
    "from openai import OpenAI"
   ]
  },
  {
   "cell_type": "code",
   "execution_count": 2,
   "id": "e7754432-0aa2-436d-b8c9-3590d74390cb",
   "metadata": {},
   "outputs": [
    {
     "name": "stdout",
     "output_type": "stream",
     "text": [
      "API key looks good so far\n"
     ]
    }
   ],
   "source": [
    "load_dotenv(override=True)\n",
    "api_key = os.getenv('OPENAI_API_KEY')\n",
    "\n",
    "if api_key and api_key.startswith('sk-proj-') and len(api_key)>10:\n",
    "    print(\"API key looks good so far\")\n",
    "else:\n",
    "    print(\"There might be a problem with your API key? Please visit the troubleshooting notebook!\")\n",
    "    \n",
    "MODEL = 'gpt-4o-mini'\n",
    "openai = OpenAI()"
   ]
  },
  {
   "cell_type": "code",
   "execution_count": 6,
   "id": "5765c710-36c0-4daf-a381-6b60802255d3",
   "metadata": {},
   "outputs": [],
   "source": [
    "system_prompt = \"You are a assistant that answer the given question\"\n",
    "\n",
    "def create_the_user_prompt(question):\n",
    "    user_prompt = \"Please give a detailed explanation to the following question: \" \n",
    "    question = str(question)\n",
    "    user_prompt =  user_prompt + question\n",
    "    return user_prompt"
   ]
  },
  {
   "cell_type": "code",
   "execution_count": 11,
   "id": "e8a2d7ce-c28d-40c3-b1bd-c6de4eba159b",
   "metadata": {},
   "outputs": [],
   "source": [
    "def chatbot_application():\n",
    "    question = input(\"Add Your Question: \")\n",
    "    stream = openai.chat.completions.create(\n",
    "        model=MODEL,\n",
    "        messages=[\n",
    "            {\"role\": \"system\", \"content\": system_prompt},\n",
    "            {\"role\": \"user\", \"content\": create_the_user_prompt(question)}\n",
    "          ],\n",
    "        stream=True\n",
    "    )\n",
    "    \n",
    "    response = \"\"\n",
    "    display_handle = display(Markdown(\"\"), display_id=True)\n",
    "    for chunk in stream:\n",
    "        response += chunk.choices[0].delta.content or ''\n",
    "        response = response.replace(\"```\",\"\").replace(\"markdown\", \"\")\n",
    "        update_display(Markdown(response), display_id=display_handle.display_id)"
   ]
  },
  {
   "cell_type": "code",
   "execution_count": 13,
   "id": "4802ec2b-4b17-4fb3-9765-6f5b464c03fb",
   "metadata": {},
   "outputs": [
    {
     "name": "stdin",
     "output_type": "stream",
     "text": [
      "Add Your Question:  can you give me an example closed frontier LLM models\n"
     ]
    },
    {
     "data": {
      "text/markdown": [
       "Closed frontier LLMs (Large Language Models) refer to proprietary models that are created, maintained, and controlled by specific organizations or companies. These models are not open-sourced or accessible for modification by the public. They are usually part of commercial offerings or research initiatives and their inner workings, including how the models are trained, their datasets, or the specific methodologies used, may not be fully disclosed.\n",
       "\n",
       "### Examples of Closed Frontier LLMs:\n",
       "\n",
       "1. **OpenAI's GPT-3 and ChatGPT**:\n",
       "   - **Description**: OpenAI's GPT-3, which powers ChatGPT, is a highly advanced language model that has been fine-tuned for various applications, including conversational AI.\n",
       "   - **Access**: While OpenAI offers API access to GPT-3 and ChatGPT, the complete model architecture, training data, and weights are not publicly available. Users can access the model through a subscription or usage plan, but they cannot modify or recreate the model.\n",
       "\n",
       "2. **Google's Bard**:\n",
       "   - **Description**: Bard is Google's conversational AI tool that leverages advanced language understanding capabilities. It's built on the PaLM (Pathways Language Model) architecture to interact with users effectively.\n",
       "   - **Access**: While Google provides access to Bard for various applications, the underlying model and its training specifics are kept proprietary, limiting public access to the model's internals.\n",
       "\n",
       "3. **Microsoft's Turing-NLG**:\n",
       "   - **Description**: Turing-NLG is a large-scale language model developed by Microsoft, focusing on natural language generation tasks such as chatbots, summarization, and content creation.\n",
       "   - **Access**: Microsoft has not released the full model for public use but provides access within its Azure platform for select applications. Details about the model's architecture and training data are not publicly available.\n",
       "\n",
       "4. **Anthropic’s Claude**:\n",
       "   - **Description**: Claude is a family of language models developed by Anthropic, designed to assist with tasks ranging from code generation to conversational interactions.\n",
       "   - **Access**: Similar to other proprietary models, Claude is available through API access, but the specific model details and training methodology remain under Anthropic's control.\n",
       "\n",
       "### Characteristics of Closed Frontier LLMs:\n",
       "\n",
       "- **Proprietary**: These models are owned by companies that have invested resources into their development.\n",
       "- **Restricted Access**: Users may have limited access through APIs or subscription services, but cannot modify or inspect the model freely.\n",
       "- **Commercial Use**: Many closed LLMs are purpose-built for commercial applications, making them attractive for businesses seeking to add AI capabilities without investing in the underlying technology.\n",
       "\n",
       "### Advantages and Disadvantages:\n",
       "\n",
       "- **Advantages**:\n",
       "  - **Performance**: Closed models are often optimized for performance and stability, with the backing of significant research and development resources.\n",
       "  - **Support and Maintenance**: Companies typically provide user support, regular updates, and improvements for their models.\n",
       "\n",
       "- **Disadvantages**:\n",
       "  - **Lack of Transparency**: Users cannot examine how the models work internally, which raises concerns about bias, privacy, and ethical considerations.\n",
       "  - **Cost**: Utilizing these models may involve significant costs, which can limit access for smaller organizations or researchers.\n",
       "\n",
       "In summary, closed frontier LLMs represent a significant trend in the AI landscape, balancing cutting-edge research, proprietary development, and the complexities of ethical AI use. They are valuable tools for companies and developers but come with restrictions that differentiate them from open-source alternatives."
      ],
      "text/plain": [
       "<IPython.core.display.Markdown object>"
      ]
     },
     "metadata": {},
     "output_type": "display_data"
    }
   ],
   "source": [
    "chatbot_application()"
   ]
  },
  {
   "cell_type": "code",
   "execution_count": null,
   "id": "5770ee34-5152-495f-887e-b5fad2b610df",
   "metadata": {},
   "outputs": [],
   "source": []
  }
 ],
 "metadata": {
  "kernelspec": {
   "display_name": "Python 3 (ipykernel)",
   "language": "python",
   "name": "python3"
  },
  "language_info": {
   "codemirror_mode": {
    "name": "ipython",
    "version": 3
   },
   "file_extension": ".py",
   "mimetype": "text/x-python",
   "name": "python",
   "nbconvert_exporter": "python",
   "pygments_lexer": "ipython3",
   "version": "3.11.13"
  }
 },
 "nbformat": 4,
 "nbformat_minor": 5
}
