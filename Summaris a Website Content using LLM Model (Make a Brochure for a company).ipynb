{
 "cells": [
  {
   "cell_type": "code",
   "execution_count": 1,
   "id": "8cdae803-f65d-4d07-b018-bd6360b2108f",
   "metadata": {},
   "outputs": [],
   "source": [
    "import os\n",
    "import requests\n",
    "import json\n",
    "from typing import List\n",
    "from dotenv import load_dotenv\n",
    "from bs4 import BeautifulSoup\n",
    "from IPython.display import Markdown, display, update_display\n",
    "from openai import OpenAI"
   ]
  },
  {
   "cell_type": "code",
   "execution_count": 2,
   "id": "5aad0f54-b96c-4e20-9657-a21ecadcee0c",
   "metadata": {},
   "outputs": [
    {
     "name": "stdout",
     "output_type": "stream",
     "text": [
      "API key looks good so far\n"
     ]
    }
   ],
   "source": [
    "load_dotenv(override=True)\n",
    "api_key = os.getenv('OPENAI_API_KEY')\n",
    "\n",
    "if api_key and api_key.startswith('sk-proj-') and len(api_key)>10:\n",
    "    print(\"API key looks good so far\")\n",
    "else:\n",
    "    print(\"There might be a problem with your API key? Please visit the troubleshooting notebook!\")\n",
    "    \n",
    "MODEL = 'gpt-4o-mini'\n",
    "openai = OpenAI()"
   ]
  },
  {
   "cell_type": "markdown",
   "id": "2ca94778-745b-4066-9736-1344c4c971cd",
   "metadata": {},
   "source": [
    "### Web Scraping"
   ]
  },
  {
   "cell_type": "code",
   "execution_count": 3,
   "id": "13b043cc-0984-4453-afde-0ad13e884958",
   "metadata": {},
   "outputs": [],
   "source": [
    "headers = {\n",
    " \"User-Agent\": \"Mozilla/5.0 (Windows NT 10.0; Win64; x64) AppleWebKit/537.36 (KHTML, like Gecko) Chrome/117.0.0.0 Safari/537.36\"\n",
    "}\n",
    "\n",
    "class Website:\n",
    "    \"\"\"\n",
    "    A utility class to represent a Website that we have scraped, now with links\n",
    "    \"\"\"\n",
    "\n",
    "    def __init__(self, url):\n",
    "        self.url = url\n",
    "        response = requests.get(url, headers=headers)\n",
    "        self.body = response.content\n",
    "        soup = BeautifulSoup(self.body, 'html.parser')\n",
    "        self.title = soup.title.string if soup.title else \"No title found\"\n",
    "        if soup.body:\n",
    "            for irrelevant in soup.body([\"script\", \"style\", \"img\", \"input\"]):\n",
    "                irrelevant.decompose()\n",
    "            self.text = soup.body.get_text(separator=\"\\n\", strip=True)\n",
    "        else:\n",
    "            self.text = \"\"\n",
    "        links = [link.get('href') for link in soup.find_all('a')]\n",
    "        self.links = [link for link in links if link]\n",
    "\n",
    "    def get_contents(self):\n",
    "        return f\"Webpage Title:\\n{self.title}\\nWebpage Contents:\\n{self.text}\\n\\n\""
   ]
  },
  {
   "cell_type": "markdown",
   "id": "88751a38-838e-4299-830c-d78238ad5cc7",
   "metadata": {},
   "source": [
    "### Type of Prompts"
   ]
  },
  {
   "cell_type": "markdown",
   "id": "e2a9b23f-2824-4905-a756-44ebfbc76a17",
   "metadata": {},
   "source": [
    "#### Extract the internal website links "
   ]
  },
  {
   "cell_type": "code",
   "execution_count": 4,
   "id": "1edcba24-e206-49d6-ba05-25eb20fb7b7c",
   "metadata": {},
   "outputs": [],
   "source": [
    "link_system_prompt = \"You are provided with a list of links found on a webpage. \\\n",
    "You are able to decide which of the links would be most relevant to include in a brochure about the company, \\\n",
    "such as links to an About page, or a Company page, or Careers/Jobs pages.\\n\"\n",
    "link_system_prompt += \"You should respond in JSON as in this example:\"\n",
    "link_system_prompt += \"\"\"\n",
    "{\n",
    "    \"links\": [\n",
    "        {\"type\": \"about page\", \"url\": \"https://full.url/goes/here/about\"},\n",
    "        {\"type\": \"careers page\", \"url\": \"https://another.full.url/careers\"}\n",
    "    ]\n",
    "}\n",
    "\"\"\""
   ]
  },
  {
   "cell_type": "code",
   "execution_count": 5,
   "id": "d047dfc2-8370-41cf-b60b-3b7675927498",
   "metadata": {},
   "outputs": [],
   "source": [
    "def get_links_user_prompt(website):\n",
    "    user_prompt = f\"Here is the list of links on the website of {website.url} - \"\n",
    "    user_prompt += \"please decide which of these are relevant web links for a brochure about the company, respond with the full https URL in JSON format. \\\n",
    "Do not include Terms of Service, Privacy, email links.\\n\"\n",
    "    user_prompt += \"Links (some might be relative links):\\n\"\n",
    "    user_prompt += \"\\n\".join(website.links)\n",
    "    return user_prompt"
   ]
  },
  {
   "cell_type": "code",
   "execution_count": 6,
   "id": "9a662023-6aab-4b85-84f0-781e7791e3bd",
   "metadata": {},
   "outputs": [],
   "source": [
    "def get_links(url):\n",
    "    website = Website(url)\n",
    "    response = openai.chat.completions.create(\n",
    "        model=MODEL,\n",
    "        messages=[\n",
    "            {\"role\": \"system\", \"content\": link_system_prompt},\n",
    "            {\"role\": \"user\", \"content\": get_links_user_prompt(website)}\n",
    "      ],\n",
    "        response_format={\"type\": \"json_object\"}\n",
    "    )\n",
    "    result = response.choices[0].message.content\n",
    "    return json.loads(result)"
   ]
  },
  {
   "cell_type": "code",
   "execution_count": 7,
   "id": "db3b01fe-2193-4814-8e4b-4633c7496d16",
   "metadata": {},
   "outputs": [
    {
     "data": {
      "text/plain": [
       "{'links': [{'type': 'about page', 'url': 'https://huggingface.co/about'},\n",
       "  {'type': 'careers page', 'url': 'https://apply.workable.com/huggingface/'},\n",
       "  {'type': 'company page', 'url': 'https://huggingface.co/enterprise'},\n",
       "  {'type': 'pricing page', 'url': 'https://huggingface.co/pricing'},\n",
       "  {'type': 'blog page', 'url': 'https://huggingface.co/blog'},\n",
       "  {'type': 'join page', 'url': 'https://huggingface.co/join'},\n",
       "  {'type': 'contact page', 'url': 'https://huggingface.co/chat'},\n",
       "  {'type': 'community page', 'url': 'https://discuss.huggingface.co'},\n",
       "  {'type': 'GitHub page', 'url': 'https://github.com/huggingface'},\n",
       "  {'type': 'LinkedIn page',\n",
       "   'url': 'https://www.linkedin.com/company/huggingface/'},\n",
       "  {'type': 'Twitter page', 'url': 'https://twitter.com/huggingface'}]}"
      ]
     },
     "execution_count": 7,
     "metadata": {},
     "output_type": "execute_result"
    }
   ],
   "source": [
    "get_links(\"https://huggingface.co\")"
   ]
  },
  {
   "cell_type": "markdown",
   "id": "54fb49c6-66eb-4e30-bc6b-68d4ee4449d1",
   "metadata": {},
   "source": [
    "#### Extract data from the external links and make the brouche"
   ]
  },
  {
   "cell_type": "code",
   "execution_count": 8,
   "id": "8be2d73b-7949-4ca1-ae00-0b0dcd9fd675",
   "metadata": {},
   "outputs": [],
   "source": [
    "def get_all_details(url):\n",
    "    result = \"Landing page:\\n\"\n",
    "    result += Website(url).get_contents()\n",
    "    links = get_links(url)\n",
    "    print(\"Found links:\", links)\n",
    "    for link in links[\"links\"]:\n",
    "        result += f\"\\n\\n{link['type']}\\n\"\n",
    "        result += Website(link[\"url\"]).get_contents()\n",
    "    return result"
   ]
  },
  {
   "cell_type": "code",
   "execution_count": 9,
   "id": "5a735a60-a97a-49a5-8961-95d54b9adfb2",
   "metadata": {},
   "outputs": [],
   "source": [
    "system_prompt = \"You are an assistant that analyzes the contents of several relevant pages from a company website \\\n",
    "and creates a short brochure about the company for prospective customers, investors and recruits. Respond in markdown.\\\n",
    "Include details of company culture, customers and careers/jobs if you have the information.\""
   ]
  },
  {
   "cell_type": "code",
   "execution_count": 10,
   "id": "d4d24817-0b41-4181-a5ea-b5f7b772b0f1",
   "metadata": {},
   "outputs": [],
   "source": [
    "def get_brochure_user_prompt(company_name, url):\n",
    "    user_prompt = f\"You are looking at a company called: {company_name}\\n\"\n",
    "    user_prompt += f\"Here are the contents of its landing page and other relevant pages; use this information to build a short brochure of the company in markdown.\\n\"\n",
    "    user_prompt += get_all_details(url)\n",
    "    user_prompt = user_prompt[:5_000] # Truncate if more than 5,000 characters\n",
    "    return user_prompt"
   ]
  },
  {
   "cell_type": "code",
   "execution_count": 12,
   "id": "f0c65d82-4931-4eec-b6f5-dde6082ecbff",
   "metadata": {},
   "outputs": [],
   "source": [
    "def stream_brochure(company_name, url):\n",
    "    stream = openai.chat.completions.create(\n",
    "        model=MODEL,\n",
    "        messages=[\n",
    "            {\"role\": \"system\", \"content\": system_prompt},\n",
    "            {\"role\": \"user\", \"content\": get_brochure_user_prompt(company_name, url)}\n",
    "          ],\n",
    "        stream=True\n",
    "    )\n",
    "    \n",
    "    response = \"\"\n",
    "    display_handle = display(Markdown(\"\"), display_id=True)\n",
    "    for chunk in stream:\n",
    "        response += chunk.choices[0].delta.content or ''\n",
    "        response = response.replace(\"```\",\"\").replace(\"markdown\", \"\")\n",
    "        update_display(Markdown(response), display_id=display_handle.display_id)"
   ]
  },
  {
   "cell_type": "code",
   "execution_count": 13,
   "id": "34ad7352-6e82-4bda-9b3c-d3c2840cc0ee",
   "metadata": {},
   "outputs": [
    {
     "name": "stdout",
     "output_type": "stream",
     "text": [
      "Found links: {'links': [{'type': 'about page', 'url': 'https://huggingface.co/huggingface'}, {'type': 'careers page', 'url': 'https://apply.workable.com/huggingface/'}, {'type': 'enterprise page', 'url': 'https://huggingface.co/enterprise'}, {'type': 'pricing page', 'url': 'https://huggingface.co/pricing'}, {'type': 'blog page', 'url': 'https://huggingface.co/blog'}, {'type': 'documentation page', 'url': 'https://huggingface.co/docs'}, {'type': 'community discussion page', 'url': 'https://discuss.huggingface.co'}, {'type': 'GitHub page', 'url': 'https://github.com/huggingface'}, {'type': 'LinkedIn page', 'url': 'https://www.linkedin.com/company/huggingface/'}, {'type': 'Twitter page', 'url': 'https://twitter.com/huggingface'}]}\n"
     ]
    },
    {
     "data": {
      "text/markdown": [
       "# Hugging Face Brochure\n",
       "\n",
       "**Hugging Face – The AI Community Building the Future**\n",
       "\n",
       "Welcome to Hugging Face, a leading platform where the machine learning community collaborates on innovative models, datasets, and applications. Our mission is to empower developers and researchers in their pursuit of artificial intelligence solutions that enhance everyday experiences.\n",
       "\n",
       "---\n",
       "\n",
       "## **Core Offerings**\n",
       "\n",
       "### **Models**\n",
       "Explore a vast collection of **1M+ models** ranging from text to image processing, ready for deployment and innovation. Some trending models this week include:\n",
       "\n",
       "- **microsoft/VibeVoice-1.5B**\n",
       "- **xai-org/grok-2**\n",
       "- **openbmb/MiniCPM-V-4_5**\n",
       "\n",
       "### **Datasets**\n",
       "Access and share over **250k+ datasets** for various AI tasks. Stay up-to-date with the latest additions and enhancements, such as those contributed by OpenAI and NVIDIA.\n",
       "\n",
       "### **Spaces**\n",
       "Join **12.5k applications** currently running on Hugging Face Spaces, a collaborative environment to deploy and share your AI applications effortlessly.\n",
       "\n",
       "### **Enterprise Solutions**\n",
       "To cater to businesses, we provide:\n",
       "- Compute solutions starting at **$0.60/hour for GPU**\n",
       "- Team and enterprise plans at **$20/user/month** with advanced security, support, and collaboration tools.\n",
       "\n",
       "---\n",
       "\n",
       "## **Community Driven Culture**\n",
       "\n",
       "At Hugging Face, we celebrate collaboration and open-source development, inviting you to build and refine AI models together with a vibrant community of over **50,000 organizations** including industry giants like Google, Microsoft, and Amazon. \n",
       "\n",
       "Join discussions, provide feedback, and contribute to advancements in AI, all while building your professional portfolio and reputation in the ML field. \n",
       "\n",
       "---\n",
       "\n",
       "## **Career Opportunities**\n",
       "\n",
       "We're passionate about nurturing talent and offer exciting career opportunities across various domains. Our culture is characterized by:\n",
       "\n",
       "- **Inclusivity**: We welcome diverse backgrounds and perspectives.\n",
       "- **Innovation**: Embrace creativity and bold thinking in a fast-paced environment.\n",
       "- **Contribution**: Influence the direction of machine learning by collaborating on projects that matter.\n",
       "\n",
       "Explore our career page for current openings and become a part of our mission to shape the future of AI!\n",
       "\n",
       "---\n",
       "\n",
       "## **Join Us**\n",
       "\n",
       "Whether you're a seasoned AI professional, an aspiring tech enthusiast, or a pioneering researcher, Hugging Face provides the tools, support, and community to help you achieve your goals.\n",
       "\n",
       "### **Get in Touch**\n",
       "- **Website**: [huggingface.co](https://huggingface.co)\n",
       "- **Social Media**: Follow us on [Twitter](https://twitter.com/huggingface), [GitHub](https://github.com/huggingface), and [LinkedIn](https://www.linkedin.com/company/huggingface/) for updates and community engagement.\n",
       "\n",
       "Together, let’s build the future of AI!"
      ],
      "text/plain": [
       "<IPython.core.display.Markdown object>"
      ]
     },
     "metadata": {},
     "output_type": "display_data"
    }
   ],
   "source": [
    "stream_brochure(\"HuggingFace\", \"https://huggingface.co\")"
   ]
  },
  {
   "cell_type": "code",
   "execution_count": null,
   "id": "d0800de5-1b01-43c0-bcfd-30a2a8a8cf97",
   "metadata": {},
   "outputs": [],
   "source": []
  }
 ],
 "metadata": {
  "kernelspec": {
   "display_name": "Python 3 (ipykernel)",
   "language": "python",
   "name": "python3"
  },
  "language_info": {
   "codemirror_mode": {
    "name": "ipython",
    "version": 3
   },
   "file_extension": ".py",
   "mimetype": "text/x-python",
   "name": "python",
   "nbconvert_exporter": "python",
   "pygments_lexer": "ipython3",
   "version": "3.11.13"
  }
 },
 "nbformat": 4,
 "nbformat_minor": 5
}
